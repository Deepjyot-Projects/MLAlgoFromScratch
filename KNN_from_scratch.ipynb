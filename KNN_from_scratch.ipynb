{
  "nbformat": 4,
  "nbformat_minor": 0,
  "metadata": {
    "colab": {
      "provenance": [],
      "authorship_tag": "ABX9TyMI7ABBe0lZTerxgZ4FrwhI",
      "include_colab_link": true
    },
    "kernelspec": {
      "name": "python3",
      "display_name": "Python 3"
    },
    "language_info": {
      "name": "python"
    }
  },
  "cells": [
    {
      "cell_type": "markdown",
      "metadata": {
        "id": "view-in-github",
        "colab_type": "text"
      },
      "source": [
        "<a href=\"https://colab.research.google.com/github/Deepjyot-Projects/MLAlgoFromScratch/blob/main/KNN_from_scratch.ipynb\" target=\"_parent\"><img src=\"https://colab.research.google.com/assets/colab-badge.svg\" alt=\"Open In Colab\"/></a>"
      ]
    },
    {
      "cell_type": "markdown",
      "source": [
        "KNN --> K Nearest Neighbors ---> Supervised Algorithm ( classification And Regression)\n",
        "\n",
        "KNN tries to predict the correct class for the test data by calculating the distance between the test data and all the training points. Then select the K number of points which is closet to the test data.The KNN algorithm calculates the probability of the test data belonging to the classes of ‘K’ training data and class holds the highest probability will be selected. In the case of regression, the value is the mean of the ‘K’ selected training points.\n",
        "\n",
        "DONT get confuse with K-means(unsupervised,clustering algorithm)\n",
        "\n",
        "\n",
        "Unsupervised Learning --> since there will be no labeled data\n",
        "\n",
        "https://drive.google.com/file/d/1ycoUr8R605fudM1ihBpiTZsl8NexKx34/view?usp=sharing"
      ],
      "metadata": {
        "id": "2eUdSvGdSK_E"
      }
    },
    {
      "cell_type": "code",
      "source": [
        "pip install KNN\n"
      ],
      "metadata": {
        "colab": {
          "base_uri": "https://localhost:8080/"
        },
        "id": "GnnRtDzKkKYS",
        "outputId": "fc86ead8-6a80-4017-ef61-14d7c554181b"
      },
      "execution_count": 1,
      "outputs": [
        {
          "output_type": "stream",
          "name": "stdout",
          "text": [
            "Requirement already satisfied: KNN in /usr/local/lib/python3.10/dist-packages (1.0.0)\n"
          ]
        }
      ]
    },
    {
      "cell_type": "code",
      "execution_count": 2,
      "metadata": {
        "id": "JoVAFdVkQhbV"
      },
      "outputs": [],
      "source": [
        "from sklearn import datasets\n",
        "from sklearn.model_selection import train_test_split\n",
        "from sklearn.neighbors import KNeighborsClassifier\n",
        "from sklearn.metrics import accuracy_score\n",
        "import matplotlib.pyplot as plt\n",
        "from sklearn import metrics"
      ]
    },
    {
      "cell_type": "code",
      "source": [
        "iris= datasets.load_iris()"
      ],
      "metadata": {
        "id": "0KyO7nzGiiwj"
      },
      "execution_count": 3,
      "outputs": []
    },
    {
      "cell_type": "code",
      "source": [
        "# Print the dataset description\n",
        "print(iris.DESCR)\n",
        "\n",
        "# Print feature names (X)\n",
        "print(\"Feature Names (X):\")\n",
        "print(iris.feature_names)\n",
        "\n",
        "# Print target variable name (y)\n",
        "print(\"Target Variable Name (y):\")\n",
        "print(iris.target_names)"
      ],
      "metadata": {
        "colab": {
          "base_uri": "https://localhost:8080/"
        },
        "id": "A_ch8-scmIvO",
        "outputId": "a9f80edc-3993-406b-9744-0e65895293c5"
      },
      "execution_count": 4,
      "outputs": [
        {
          "output_type": "stream",
          "name": "stdout",
          "text": [
            ".. _iris_dataset:\n",
            "\n",
            "Iris plants dataset\n",
            "--------------------\n",
            "\n",
            "**Data Set Characteristics:**\n",
            "\n",
            "    :Number of Instances: 150 (50 in each of three classes)\n",
            "    :Number of Attributes: 4 numeric, predictive attributes and the class\n",
            "    :Attribute Information:\n",
            "        - sepal length in cm\n",
            "        - sepal width in cm\n",
            "        - petal length in cm\n",
            "        - petal width in cm\n",
            "        - class:\n",
            "                - Iris-Setosa\n",
            "                - Iris-Versicolour\n",
            "                - Iris-Virginica\n",
            "                \n",
            "    :Summary Statistics:\n",
            "\n",
            "    ============== ==== ==== ======= ===== ====================\n",
            "                    Min  Max   Mean    SD   Class Correlation\n",
            "    ============== ==== ==== ======= ===== ====================\n",
            "    sepal length:   4.3  7.9   5.84   0.83    0.7826\n",
            "    sepal width:    2.0  4.4   3.05   0.43   -0.4194\n",
            "    petal length:   1.0  6.9   3.76   1.76    0.9490  (high!)\n",
            "    petal width:    0.1  2.5   1.20   0.76    0.9565  (high!)\n",
            "    ============== ==== ==== ======= ===== ====================\n",
            "\n",
            "    :Missing Attribute Values: None\n",
            "    :Class Distribution: 33.3% for each of 3 classes.\n",
            "    :Creator: R.A. Fisher\n",
            "    :Donor: Michael Marshall (MARSHALL%PLU@io.arc.nasa.gov)\n",
            "    :Date: July, 1988\n",
            "\n",
            "The famous Iris database, first used by Sir R.A. Fisher. The dataset is taken\n",
            "from Fisher's paper. Note that it's the same as in R, but not as in the UCI\n",
            "Machine Learning Repository, which has two wrong data points.\n",
            "\n",
            "This is perhaps the best known database to be found in the\n",
            "pattern recognition literature.  Fisher's paper is a classic in the field and\n",
            "is referenced frequently to this day.  (See Duda & Hart, for example.)  The\n",
            "data set contains 3 classes of 50 instances each, where each class refers to a\n",
            "type of iris plant.  One class is linearly separable from the other 2; the\n",
            "latter are NOT linearly separable from each other.\n",
            "\n",
            ".. topic:: References\n",
            "\n",
            "   - Fisher, R.A. \"The use of multiple measurements in taxonomic problems\"\n",
            "     Annual Eugenics, 7, Part II, 179-188 (1936); also in \"Contributions to\n",
            "     Mathematical Statistics\" (John Wiley, NY, 1950).\n",
            "   - Duda, R.O., & Hart, P.E. (1973) Pattern Classification and Scene Analysis.\n",
            "     (Q327.D83) John Wiley & Sons.  ISBN 0-471-22361-1.  See page 218.\n",
            "   - Dasarathy, B.V. (1980) \"Nosing Around the Neighborhood: A New System\n",
            "     Structure and Classification Rule for Recognition in Partially Exposed\n",
            "     Environments\".  IEEE Transactions on Pattern Analysis and Machine\n",
            "     Intelligence, Vol. PAMI-2, No. 1, 67-71.\n",
            "   - Gates, G.W. (1972) \"The Reduced Nearest Neighbor Rule\".  IEEE Transactions\n",
            "     on Information Theory, May 1972, 431-433.\n",
            "   - See also: 1988 MLC Proceedings, 54-64.  Cheeseman et al\"s AUTOCLASS II\n",
            "     conceptual clustering system finds 3 classes in the data.\n",
            "   - Many, many more ...\n",
            "Feature Names (X):\n",
            "['sepal length (cm)', 'sepal width (cm)', 'petal length (cm)', 'petal width (cm)']\n",
            "Target Variable Name (y):\n",
            "['setosa' 'versicolor' 'virginica']\n"
          ]
        }
      ]
    },
    {
      "cell_type": "code",
      "source": [
        "import sklearn.datasets as datasets\n",
        "\n",
        "def load_iris_dataset(test_size=0.3, random_state=42):\n",
        "    \"\"\"\n",
        "    Load the Iris dataset and return X, y, feature_names, and target_names.\n",
        "    \"\"\"\n",
        "    iris = datasets.load_iris()\n",
        "    X = iris.data\n",
        "    y = iris.target\n",
        "    feature_names = iris.feature_names\n",
        "    target_names = iris.target_names\n",
        "\n",
        "    X_train, X_test, y_train, y_test = train_test_split(X, y, test_size=test_size, random_state=random_state)\n",
        "\n",
        "    return X_train, X_test, y_train, y_test, feature_names, target_names\n",
        "\n",
        "\n",
        "\n",
        "\n",
        "def KNN(k,X_train, X_test,y_train,y_test):\n",
        "  knn_classifier = KNeighborsClassifier(n_neighbors=k)\n",
        "\n",
        "  # Train the classifier on the training data\n",
        "  knn_classifier.fit(X_train, y_train)\n",
        "\n",
        "  # Make predictions on the test data\n",
        "  y_pred = knn_classifier.predict(X_test)\n",
        "\n",
        "  # Calculate the accuracy of the classifier\n",
        "  accuracy = accuracy_score(y_test, y_pred)\n",
        "\n",
        "  return accuracy\n",
        "  # print(f\"Accuracy: {accuracy * 100:.2f}%\")\n",
        "\n",
        "def plot_for_differentK(X_train, X_test,y_train, y_test,maxk = 100):\n",
        "  accuracies = []\n",
        "\n",
        "  for i in range(1,maxk):\n",
        "      accuracies.append(KNN(k=i,X_train=X_train,X_test = X_test, y_train=y_train, y_test=  y_test))\n",
        "\n",
        "  plt.figure(figsize=(10,6))\n",
        "  plt.plot(range(1,maxk),accuracies,color = 'blue',linestyle='dashed',\n",
        "          marker='o',markerfacecolor='red', markersize=10)\n",
        "  plt.title('accuracy vs. K Value')\n",
        "  plt.xlabel('K')\n",
        "  plt.ylabel('Accuracy')\n",
        "  print(\"Maximum accuracy:-\",max(accuracies),\"at K =\",accuracies.index(max(accuracies)))\n",
        "\n",
        "\n",
        "if __name__ == \"__main__\":\n",
        "    X_train, X_test, y_train, y_test, feature_names, target_names = load_iris_dataset()\n",
        "    print(\"X_train shape:\", X_train.shape)\n",
        "    print(\"X_test shape:\", X_test.shape)\n",
        "    print(\"y_train shape:\", len(y_train))\n",
        "    print(\"y_test shape:\", len(y_test))\n",
        "    plot_for_differentK(X_train, X_test, y_train, y_test)\n",
        "\n",
        "    # acc  = KNN(k,X_train,y_train, X_test, y_test)\n"
      ],
      "metadata": {
        "colab": {
          "base_uri": "https://localhost:8080/",
          "height": 651
        },
        "id": "xrGPy6Dwnasx",
        "outputId": "e5dcc55f-f8fa-49dd-88b6-597c4914850c"
      },
      "execution_count": 18,
      "outputs": [
        {
          "output_type": "stream",
          "name": "stdout",
          "text": [
            "X_train shape: (105, 4)\n",
            "X_test shape: (45, 4)\n",
            "y_train shape: 105\n",
            "y_test shape: 45\n",
            "Maximum accuracy:- 1.0 at K = 0\n"
          ]
        },
        {
          "output_type": "display_data",
          "data": {
            "text/plain": [
              "<Figure size 1000x600 with 1 Axes>"
            ],
            "image/png": "[encoded data removed]"
          },
          "metadata": {}
        }
      ]
    },
    {
      "cell_type": "code",
      "source": [],
      "metadata": {
        "id": "3NMt2iYrnePd"
      },
      "execution_count": 11,
      "outputs": []
    },
    {
      "cell_type": "code",
      "source": [],
      "metadata": {
        "id": "J2ZInB0snx9L"
      },
      "execution_count": null,
      "outputs": []
    },
    {
      "cell_type": "code",
      "source": [],
      "metadata": {
        "id": "saZovEDplZpl"
      },
      "execution_count": null,
      "outputs": []
    }
  ]
}